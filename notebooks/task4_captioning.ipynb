{
 "cells": [
  {"cell_type": "markdown", "metadata": {}, "source": ["# Task 4: Image Captioning\n\n- Load dữ liệu ảnh và caption\n- Tiền xử lý\n- Trích xuất đặc trưng ảnh\n- Train ImageCaptioner\n- Đánh giá BLEU\n- Visualize kết quả\n"]},
  {"cell_type": "code", "metadata": {}, "source": ["import pandas as pd\nimport numpy as np\nimport os\nfrom src.data_processor import Flickr8kProcessor, TextPreprocessor, ImageProcessor\nfrom src.models.captioning_models import ImageCaptioner\nfrom src.utils.metrics import MetricsCalculator\nfrom sklearn.model_selection import train_test_split\n"]},
  {"cell_type": "markdown", "metadata": {}, "source": ["## 1. Load và tiền xử lý dữ liệu"]},
  {"cell_type": "code", "metadata": {}, "source": ["DATA_PATH = '../data'\nIMG_DIR = os.path.join(DATA_PATH, 'flickr8k', 'Images')\nprocessor = Flickr8kProcessor(DATA_PATH)\ncaptions_df = processor.load_captions()\ntext_prep = TextPreprocessor(language='en')\ntokenized = text_prep.tokenize(captions_df['caption'].tolist())\nvocab = text_prep.build_vocabulary(tokenized, vocab_size=5000)\nsequences = text_prep.texts_to_sequences(captions_df['caption'].tolist(), vocab)\npadded = text_prep.pad_sequences(sequences, maxlen=20)\nimage_paths = [os.path.join(IMG_DIR, img_id) for img_id in captions_df['image_id']]\nimg_proc = ImageProcessor(model_name='InceptionV3')\nfeatures = img_proc.extract_features(image_paths)\nX_img_train, X_img_val, X_cap_train, X_cap_val = train_test_split(features, padded, test_size=0.2, random_state=42)\n"]},
  {"cell_type": "markdown", "metadata": {}, "source": ["## 2. Build, train và đánh giá mô hình"]},
  {"cell_type": "code", "metadata": {}, "source": ["captioner = ImageCaptioner(vocab_size=len(vocab))\ncaptioner.build_model()\nhistory = captioner.train(X_img_train, X_cap_train, epochs=5)\nmetrics = MetricsCalculator()\npreds = []\nfor i in range(len(X_img_val)):\n    pred_seq = captioner.generate_caption(X_img_val[i])\n    preds.append(' '.join([str(idx) for idx in pred_seq]))\nrefs = [' '.join([str(idx) for idx in seq]) for seq in X_cap_val]\nbleu = metrics.calculate_bleu(refs, preds)\nprint('BLEU score:', bleu)\n"]},
  {"cell_type": "markdown", "metadata": {}, "source": ["## 3. Visualize kết quả"]},
  {"cell_type": "code", "metadata": {}, "source": ["import matplotlib.pyplot as plt\nplt.plot(history.history['loss'], label='Train Loss')\nplt.title('Training Loss')\nplt.legend()\nplt.show()\n"]}
 ],
 "metadata": {"kernelspec": {"display_name": "Python 3", "language": "python", "name": "python3"}, "language_info": {"name": "python", "version": "3.8"}},
 "nbformat": 4,
 "nbformat_minor": 2
}
