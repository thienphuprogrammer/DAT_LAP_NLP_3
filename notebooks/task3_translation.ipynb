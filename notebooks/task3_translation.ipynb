{
 "cells": [
  {"cell_type": "markdown", "metadata": {}, "source": ["# Task 3: Translation\n\n- Load dữ liệu dịch\n- Tiền xử lý\n- Chia train/test\n- Train Seq2SeqTranslator\n- Đánh giá BLEU\n- Visualize kết quả\n"]},
  {"cell_type": "code", "metadata": {}, "source": ["import pandas as pd\nimport numpy as np\nfrom src.data_processor import Flickr8kProcessor, TextPreprocessor\nfrom src.models.translation_models import Seq2SeqTranslator\nfrom src.utils.metrics import MetricsCalculator\nfrom sklearn.model_selection import train_test_split\n"]},
  {"cell_type": "markdown", "metadata": {}, "source": ["## 1. Load và tiền xử lý dữ liệu"]},
  {"cell_type": "code", "metadata": {}, "source": ["DATA_PATH = '../data'\nLANG = 'vi'\nprocessor = Flickr8kProcessor(DATA_PATH)\ndf = processor.load_translated_captions(LANG)\nsrc_texts = df['caption'].tolist()\ntgt_texts = df['translated_caption'].tolist()\nsrc_prep = TextPreprocessor(language='en')\ntgt_prep = TextPreprocessor(language=LANG)\nsrc_tokenized = src_prep.tokenize(src_texts)\ntgt_tokenized = tgt_prep.tokenize(tgt_texts)\nsrc_vocab = src_prep.build_vocabulary(src_tokenized, vocab_size=5000)\ntgt_vocab = tgt_prep.build_vocabulary(tgt_tokenized, vocab_size=5000)\nsrc_seqs = src_prep.texts_to_sequences(src_texts, src_vocab)\ntgt_seqs = tgt_prep.texts_to_sequences(tgt_texts, tgt_vocab)\nsrc_padded = src_prep.pad_sequences(src_seqs, maxlen=20)\ntgt_padded = tgt_prep.pad_sequences(tgt_seqs, maxlen=20)\nX_train, X_val, y_train, y_val = train_test_split(src_padded, tgt_padded, test_size=0.2, random_state=42)\n"]},
  {"cell_type": "markdown", "metadata": {}, "source": ["## 2. Build, train và đánh giá mô hình"]},
  {"cell_type": "code", "metadata": {}, "source": ["translator = Seq2SeqTranslator(src_vocab_size=len(src_vocab), tgt_vocab_size=len(tgt_vocab))\ntranslator.build_model()\nhistory = translator.train([X_train, y_train[:, :-1]], y_train[:, 1:], [X_val, y_val[:, :-1]], y_val[:, 1:], epochs=5, batch_size=64)\nmetrics = MetricsCalculator()\npreds = []\nfor i in range(len(X_val)):\n    pred_seq = translator.translate(X_val[i])\n    preds.append(' '.join([str(idx) for idx in pred_seq]))\nrefs = [' '.join([str(idx) for idx in seq]) for seq in y_val[:, 1:]]\nbleu = metrics.calculate_bleu(refs, preds)\nprint('BLEU score:', bleu)\n"]},
  {"cell_type": "markdown", "metadata": {}, "source": ["## 3. Visualize kết quả"]},
  {"cell_type": "code", "metadata": {}, "source": ["import matplotlib.pyplot as plt\nplt.plot(history.history['loss'], label='Train Loss')\nplt.plot(history.history.get('val_loss', []), label='Val Loss')\nplt.legend()\nplt.title('Training Loss')\nplt.show()\n"]}
 ],
 "metadata": {"kernelspec": {"display_name": "Python 3", "language": "python", "name": "python3"}, "language_info": {"name": "python", "version": "3.8"}},
 "nbformat": 4,
 "nbformat_minor": 2
}
