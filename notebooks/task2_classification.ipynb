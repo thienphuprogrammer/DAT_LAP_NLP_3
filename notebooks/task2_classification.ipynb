{
 "cells": [
  {"cell_type": "markdown", "metadata": {}, "source": ["# Task 2: Caption Length Classification\n\n- Load và tiền xử lý dữ liệu\n- Chia train/test\n- Train RNN, LSTM, Attention\n- Đánh giá, visualize kết quả\n"]},
  {"cell_type": "code", "metadata": {}, "source": ["import pandas as pd\nimport numpy as np\nfrom src.data_processor import Flickr8kProcessor, TextPreprocessor\nfrom src.models.classification_models import RNNClassifier, LSTMClassifier, AttentionClassifier\nfrom src.utils.metrics import MetricsCalculator\nfrom src.utils.visualization import DataVisualizer\nfrom sklearn.model_selection import train_test_split\nimport matplotlib.pyplot as plt\n%matplotlib inline\n"]},
  {"cell_type": "markdown", "metadata": {}, "source": ["## 1. Load và tiền xử lý dữ liệu"]},
  {"cell_type": "code", "metadata": {}, "source": ["DATA_PATH = '../data'\nprocessor = Flickr8kProcessor(DATA_PATH)\ncaptions_df = processor.load_captions()\ncaptions_df = processor.create_length_labels(captions_df)\ntext_prep = TextPreprocessor(language='en')\ntokenized = text_prep.tokenize(captions_df['caption'].tolist())\nvocab = text_prep.build_vocabulary(tokenized, vocab_size=5000)\nsequences = text_prep.texts_to_sequences(captions_df['caption'].tolist(), vocab)\npadded = text_prep.pad_sequences(sequences, maxlen=20)\nlabel_map = {'short': 0, 'medium': 1, 'long': 2}\ny = captions_df['length_category'].map(label_map).values\nX_train, X_val, y_train, y_val = train_test_split(padded, y, test_size=0.2, random_state=42)\n"]},
  {"cell_type": "markdown", "metadata": {}, "source": ["## 2. Train và đánh giá các mô hình"]},
  {"cell_type": "code", "metadata": {}, "source": ["results = {}\nmetrics = MetricsCalculator()\nfor ModelClass, name in zip([RNNClassifier, LSTMClassifier, AttentionClassifier], ['RNN', 'LSTM', 'Attention']):\n    print(f'Training {name}...')\n    model = ModelClass(vocab_size=len(vocab), num_classes=3)\n    model.build_model()\n    history = model.train(X_train, y_train, X_val, y_val, epochs=5, batch_size=64)\n    y_pred = np.argmax(model.model.predict(X_val), axis=1)\n    result = metrics.calculate_classification_metrics(y_val, y_pred)\n    print(f'{name} metrics:', result)\n    results[name] = result\n"]},
  {"cell_type": "markdown", "metadata": {}, "source": ["## 3. Visualize kết quả"]},
  {"cell_type": "code", "metadata": {}, "source": ["visualizer = DataVisualizer()\nfor name in results:\n    print(f'{name} metrics:', results[name])\n# Có thể thêm visualize confusion matrix nếu muốn\n"]}
 ],
 "metadata": {"kernelspec": {"display_name": "Python 3", "language": "python", "name": "python3"}, "language_info": {"name": "python", "version": "3.8"}},
 "nbformat": 4,
 "nbformat_minor": 2
}
