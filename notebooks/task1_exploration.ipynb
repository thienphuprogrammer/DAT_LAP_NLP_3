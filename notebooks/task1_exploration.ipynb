{
  "cells": [
   {
    "cell_type": "markdown",
    "metadata": {},
    "source": [
     "# Task 1: Data Preparation & Exploration\n",
     "\n",
     "- Load Flickr8k captions\n",
     "- Thống kê caption\n",
     "- Visualize length distribution\n",
     "- Wordcloud\n",
     "- Xem ví dụ caption\n",
     "- Phân tích cơ bản\n"
    ]
   },
   {
    "cell_type": "code",
    "metadata": {},
    "source": [
     "import pandas as pd\n",
     "from src.data_processor import Flickr8kProcessor\n",
     "from src.utils.visualization import DataVisualizer\n",
     "import matplotlib.pyplot as plt\n",
     "%matplotlib inline\n"
    ]
   },
   {
    "cell_type": "markdown",
    "metadata": {},
    "source": [
     "## 1. Load data"
    ]
   },
   {
    "cell_type": "code",
    "metadata": {},
    "source": [
     "DATA_PATH = '../data'\n",
     "processor = Flickr8kProcessor(DATA_PATH)\n",
     "captions_df = processor.load_captions()\n",
     "captions_df.head()"
    ]
   },
   {
    "cell_type": "markdown",
    "metadata": {},
    "source": [
     "## 2. Thống kê caption"
    ]
   },
   {
    "cell_type": "code",
    "metadata": {},
    "source": [
     "print('Số lượng caption:', len(captions_df))\n",
     "print('Số lượng ảnh:', captions_df['image_id'].nunique())\n",
     "caption_lengths = captions_df['caption'].apply(lambda x: len(x.split()))\n",
     "print('Độ dài caption trung bình:', caption_lengths.mean())\n",
     "print('Độ dài caption lớn nhất:', caption_lengths.max())\n",
     "print('Độ dài caption nhỏ nhất:', caption_lengths.min())"
    ]
   },
   {
    "cell_type": "markdown",
    "metadata": {},
    "source": [
     "## 3. Visualize length distribution"
    ]
   },
   {
    "cell_type": "code",
    "metadata": {},
    "source": [
     "visualizer = DataVisualizer()\n",
     "visualizer.plot_length_distribution(captions_df['caption'].apply(lambda x: len(x.split())).tolist())"
    ]
   },
   {
    "cell_type": "markdown",
    "metadata": {},
    "source": [
     "## 4. Wordcloud"
    ]
   },
   {
    "cell_type": "code",
    "metadata": {},
    "source": [
     "visualizer.create_wordcloud(captions_df['caption'].tolist(), language='en')"
    ]
   },
   {
    "cell_type": "markdown",
    "metadata": {},
    "source": [
     "## 5. Xem ví dụ caption"
    ]
   },
   {
    "cell_type": "code",
    "metadata": {},
    "source": [
     "captions_df.sample(10)"
    ]
   },
   {
    "cell_type": "markdown",
    "metadata": {},
    "source": [
     "## 6. Phân tích cơ bản: Tần suất từ xuất hiện"
    ]
   },
   {
    "cell_type": "code",
    "metadata": {},
    "source": [
     "from collections import Counter\n",
     "all_words = ' '.join(captions_df['caption']).split()\n",
     "word_freq = Counter(all_words)\n",
     "print('Top 20 từ phổ biến:')\n",
     "print(word_freq.most_common(20))"
    ]
   }
  ],
  "metadata": {
   "kernelspec": {
    "display_name": "Python 3",
    "language": "python",
    "name": "python3"
   },
   "language_info": {
    "name": "python",
    "version": "3.8"
   }
  },
  "nbformat": 4,
  "nbformat_minor": 2
 }
 